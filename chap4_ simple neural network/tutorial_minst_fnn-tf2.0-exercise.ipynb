{
 "cells": [
  {
   "cell_type": "markdown",
   "metadata": {},
   "source": [
    "## 准备数据"
   ]
  },
  {
   "cell_type": "code",
   "execution_count": 3,
   "metadata": {},
   "outputs": [],
   "source": [
    "import os\n",
    "import numpy as np\n",
    "import tensorflow as tf\n",
    "from tensorflow import keras\n",
    "from tensorflow.keras import layers, optimizers, datasets\n",
    "\n",
    "os.environ['TF_CPP_MIN_LOG_LEVEL'] = '2'  # or any {'0', '1', '2'}\n",
    "\n",
    "def mnist_dataset():\n",
    "    (x, y), (x_test, y_test) = datasets.mnist.load_data()\n",
    "    #normalize\n",
    "    x = x/255.0\n",
    "    x_test = x_test/255.0\n",
    "    \n",
    "    return (x, y), (x_test, y_test)"
   ]
  },
  {
   "cell_type": "code",
   "execution_count": 2,
   "metadata": {},
   "outputs": [
    {
     "name": "stdout",
     "output_type": "stream",
     "text": [
      "[(1, 'a'), (2, 'b'), (3, 'c'), (4, 'd')]\n"
     ]
    }
   ],
   "source": [
    "print(list(zip([1, 2, 3, 4], ['a', 'b', 'c', 'd'])))"
   ]
  },
  {
   "cell_type": "markdown",
   "metadata": {},
   "source": [
    "## 建立模型"
   ]
  },
  {
   "cell_type": "code",
   "execution_count": 4,
   "metadata": {},
   "outputs": [],
   "source": [
    "# class myModel:\n",
    "#     def __init__(self):\n",
    "#         ####################\n",
    "#         '''声明模型对应的参数'''\n",
    "#         ####################\n",
    "#     def __call__(self, x):\n",
    "#         ####################\n",
    "#         '''实现模型函数体，返回未归一化的logits'''\n",
    "#         ####################\n",
    "#         return logits\n",
    "        \n",
    "\n",
    "\n",
    "class myModel:\n",
    "    def __init__(self):\n",
    "        # 声明模型对应的参数\n",
    "        self.W1 = tf.Variable(tf.random.truncated_normal([784, 256], stddev=0.1))\n",
    "        self.b1 = tf.Variable(tf.zeros([256]))\n",
    "        self.W2 = tf.Variable(tf.random.truncated_normal([256, 10], stddev=0.1))\n",
    "        self.b2 = tf.Variable(tf.zeros([10]))\n",
    "        \n",
    "    def __call__(self, x):\n",
    "        x = tf.reshape(x, [-1, 784])  # Flatten the input\n",
    "        h1 = tf.nn.relu(tf.matmul(x, self.W1) + self.b1)  # First layer\n",
    "        logits = tf.matmul(h1, self.W2) + self.b2  # Output layer\n",
    "        return logits\n",
    "\n",
    "\n",
    "model = myModel()\n",
    "\n",
    "optimizer = optimizers.Adam()"
   ]
  },
  {
   "cell_type": "markdown",
   "metadata": {},
   "source": [
    "## 计算 loss"
   ]
  },
  {
   "cell_type": "code",
   "execution_count": 5,
   "metadata": {},
   "outputs": [],
   "source": [
    "@tf.function\n",
    "def compute_loss(logits, labels):\n",
    "    return tf.reduce_mean(\n",
    "        tf.nn.sparse_softmax_cross_entropy_with_logits(\n",
    "            logits=logits, labels=labels))\n",
    "\n",
    "@tf.function\n",
    "def compute_accuracy(logits, labels):\n",
    "    predictions = tf.argmax(logits, axis=1)\n",
    "    return tf.reduce_mean(tf.cast(tf.equal(predictions, labels), tf.float32))\n",
    "\n",
    "@tf.function\n",
    "def train_one_step(model, optimizer, x, y):\n",
    "    with tf.GradientTape() as tape:\n",
    "        logits = model(x)\n",
    "        loss = compute_loss(logits, y)\n",
    "\n",
    "    # compute gradient\n",
    "    trainable_vars = [model.W1, model.W2, model.b1, model.b2]\n",
    "    grads = tape.gradient(loss, trainable_vars)\n",
    "    for g, v in zip(grads, trainable_vars):\n",
    "        v.assign_sub(0.01*g)\n",
    "\n",
    "    accuracy = compute_accuracy(logits, y)\n",
    "\n",
    "    # loss and accuracy is scalar tensor\n",
    "    return loss, accuracy\n",
    "\n",
    "@tf.function\n",
    "def test(model, x, y):\n",
    "    logits = model(x)\n",
    "    loss = compute_loss(logits, y)\n",
    "    accuracy = compute_accuracy(logits, y)\n",
    "    return loss, accuracy"
   ]
  },
  {
   "cell_type": "markdown",
   "metadata": {},
   "source": [
    "## 实际训练"
   ]
  },
  {
   "cell_type": "code",
   "execution_count": 6,
   "metadata": {},
   "outputs": [
    {
     "name": "stdout",
     "output_type": "stream",
     "text": [
      "epoch 0 : loss 2.6634269 ; accuracy 0.08513334\n",
      "epoch 1 : loss 2.6270988 ; accuracy 0.08636667\n",
      "epoch 2 : loss 2.5933359 ; accuracy 0.08731667\n",
      "epoch 3 : loss 2.5617328 ; accuracy 0.088083334\n",
      "epoch 4 : loss 2.5319865 ; accuracy 0.0895\n",
      "epoch 5 : loss 2.5038588 ; accuracy 0.09091666\n",
      "epoch 6 : loss 2.4771662 ; accuracy 0.09278333\n",
      "epoch 7 : loss 2.4517539 ; accuracy 0.09561667\n",
      "epoch 8 : loss 2.4274955 ; accuracy 0.09821667\n",
      "epoch 9 : loss 2.404289 ; accuracy 0.101166666\n",
      "epoch 10 : loss 2.3820424 ; accuracy 0.10455\n",
      "epoch 11 : loss 2.3606741 ; accuracy 0.10893334\n",
      "epoch 12 : loss 2.3401113 ; accuracy 0.11366667\n",
      "epoch 13 : loss 2.3202896 ; accuracy 0.11841667\n",
      "epoch 14 : loss 2.301153 ; accuracy 0.123966664\n",
      "epoch 15 : loss 2.2826445 ; accuracy 0.1301\n",
      "epoch 16 : loss 2.2647178 ; accuracy 0.13733333\n",
      "epoch 17 : loss 2.247329 ; accuracy 0.1454\n",
      "epoch 18 : loss 2.2304344 ; accuracy 0.15353334\n",
      "epoch 19 : loss 2.2139978 ; accuracy 0.1618\n",
      "epoch 20 : loss 2.1979823 ; accuracy 0.17053333\n",
      "epoch 21 : loss 2.1823578 ; accuracy 0.17996667\n",
      "epoch 22 : loss 2.1670942 ; accuracy 0.18938333\n",
      "epoch 23 : loss 2.1521642 ; accuracy 0.19881667\n",
      "epoch 24 : loss 2.1375432 ; accuracy 0.20838334\n",
      "epoch 25 : loss 2.1232078 ; accuracy 0.2181\n",
      "epoch 26 : loss 2.1091397 ; accuracy 0.22758333\n",
      "epoch 27 : loss 2.095319 ; accuracy 0.2369\n",
      "epoch 28 : loss 2.0817304 ; accuracy 0.24675\n",
      "epoch 29 : loss 2.068359 ; accuracy 0.25561666\n",
      "epoch 30 : loss 2.055192 ; accuracy 0.26541665\n",
      "epoch 31 : loss 2.0422168 ; accuracy 0.27515\n",
      "epoch 32 : loss 2.0294235 ; accuracy 0.28458333\n",
      "epoch 33 : loss 2.0168023 ; accuracy 0.29435\n",
      "epoch 34 : loss 2.0043445 ; accuracy 0.30321667\n",
      "epoch 35 : loss 1.9920434 ; accuracy 0.31218332\n",
      "epoch 36 : loss 1.979893 ; accuracy 0.32085\n",
      "epoch 37 : loss 1.9678854 ; accuracy 0.32978332\n",
      "epoch 38 : loss 1.9560165 ; accuracy 0.33825\n",
      "epoch 39 : loss 1.9442819 ; accuracy 0.3473\n",
      "epoch 40 : loss 1.9326776 ; accuracy 0.35625\n",
      "epoch 41 : loss 1.9211994 ; accuracy 0.36436668\n",
      "epoch 42 : loss 1.9098434 ; accuracy 0.37281665\n",
      "epoch 43 : loss 1.8986069 ; accuracy 0.38123333\n",
      "epoch 44 : loss 1.887488 ; accuracy 0.38923332\n",
      "epoch 45 : loss 1.876483 ; accuracy 0.39723334\n",
      "epoch 46 : loss 1.8655887 ; accuracy 0.40463334\n",
      "epoch 47 : loss 1.8548031 ; accuracy 0.41226667\n",
      "epoch 48 : loss 1.8441237 ; accuracy 0.4195\n",
      "epoch 49 : loss 1.8335496 ; accuracy 0.42628333\n",
      "test loss 1.8180047 ; accuracy 0.435\n"
     ]
    }
   ],
   "source": [
    "train_data, test_data = mnist_dataset()\n",
    "for epoch in range(50):\n",
    "    loss, accuracy = train_one_step(model, optimizer, \n",
    "                                    tf.constant(train_data[0], dtype=tf.float32), \n",
    "                                    tf.constant(train_data[1], dtype=tf.int64))\n",
    "    print('epoch', epoch, ': loss', loss.numpy(), '; accuracy', accuracy.numpy())\n",
    "loss, accuracy = test(model, \n",
    "                      tf.constant(test_data[0], dtype=tf.float32), \n",
    "                      tf.constant(test_data[1], dtype=tf.int64))\n",
    "\n",
    "print('test loss', loss.numpy(), '; accuracy', accuracy.numpy())"
   ]
  }
 ],
 "metadata": {
  "kernelspec": {
   "display_name": "Python 3",
   "language": "python",
   "name": "python3"
  },
  "language_info": {
   "codemirror_mode": {
    "name": "ipython",
    "version": 3
   },
   "file_extension": ".py",
   "mimetype": "text/x-python",
   "name": "python",
   "nbconvert_exporter": "python",
   "pygments_lexer": "ipython3",
   "version": "3.8.17"
  }
 },
 "nbformat": 4,
 "nbformat_minor": 2
}
